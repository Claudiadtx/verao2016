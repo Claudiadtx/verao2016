{
 "cells": [
  {
   "cell_type": "markdown",
   "metadata": {},
   "source": [
    "# Introdução ao pacote de inversão"
   ]
  },
  {
   "cell_type": "markdown",
   "metadata": {},
   "source": [
    "## Regressão linear básica"
   ]
  },
  {
   "cell_type": "code",
   "execution_count": null,
   "metadata": {
    "collapsed": true
   },
   "outputs": [],
   "source": [
    "import numpy as np"
   ]
  },
  {
   "cell_type": "code",
   "execution_count": null,
   "metadata": {
    "collapsed": false
   },
   "outputs": [],
   "source": [
    "x = np.linspace(5, 20, 100)\n",
    "a, b = 0.1, 500\n",
    "y = a*x + b"
   ]
  },
  {
   "cell_type": "code",
   "execution_count": null,
   "metadata": {
    "collapsed": false
   },
   "outputs": [],
   "source": [
    "type(x)"
   ]
  },
  {
   "cell_type": "code",
   "execution_count": null,
   "metadata": {
    "collapsed": true
   },
   "outputs": [],
   "source": [
    "%matplotlib inline\n",
    "import matplotlib.pyplot as plt"
   ]
  },
  {
   "cell_type": "code",
   "execution_count": null,
   "metadata": {
    "collapsed": false
   },
   "outputs": [],
   "source": [
    "plt.plot(x, y, '.k')"
   ]
  },
  {
   "cell_type": "code",
   "execution_count": null,
   "metadata": {
    "collapsed": true
   },
   "outputs": [],
   "source": [
    "from fatiando import utils"
   ]
  },
  {
   "cell_type": "code",
   "execution_count": null,
   "metadata": {
    "collapsed": true
   },
   "outputs": [],
   "source": [
    "y_real = utils.contaminate(y, 0.2)"
   ]
  },
  {
   "cell_type": "code",
   "execution_count": null,
   "metadata": {
    "collapsed": false
   },
   "outputs": [],
   "source": [
    "plt.plot(x, y_real, '.k')"
   ]
  },
  {
   "cell_type": "code",
   "execution_count": null,
   "metadata": {
    "collapsed": true
   },
   "outputs": [],
   "source": [
    "from fatiando.inversion import Misfit"
   ]
  },
  {
   "cell_type": "code",
   "execution_count": null,
   "metadata": {
    "collapsed": true
   },
   "outputs": [],
   "source": [
    "class Regressao(Misfit):\n",
    "    \n",
    "    def __init__(self, x, y):\n",
    "        super(Regressao, self).__init__(data=y, nparams=2, islinear=True)\n",
    "        self.x = x\n",
    "        \n",
    "    def predicted(self, p):\n",
    "        a, b = p\n",
    "        return a*self.x + b\n",
    "    \n",
    "    def jacobian(self, p):\n",
    "        A = np.empty((self.ndata, self.nparams))\n",
    "        A[:, 0] = self.x\n",
    "        A[:, 1] = 1\n",
    "        return A"
   ]
  },
  {
   "cell_type": "code",
   "execution_count": null,
   "metadata": {
    "collapsed": false
   },
   "outputs": [],
   "source": [
    "reg = Regressao(x, y_real)"
   ]
  },
  {
   "cell_type": "code",
   "execution_count": null,
   "metadata": {
    "collapsed": false
   },
   "outputs": [],
   "source": [
    "reg"
   ]
  },
  {
   "cell_type": "code",
   "execution_count": null,
   "metadata": {
    "collapsed": false
   },
   "outputs": [],
   "source": [
    "reg.fit()"
   ]
  },
  {
   "cell_type": "code",
   "execution_count": null,
   "metadata": {
    "collapsed": false
   },
   "outputs": [],
   "source": [
    "reg.estimate_"
   ]
  },
  {
   "cell_type": "code",
   "execution_count": null,
   "metadata": {
    "collapsed": false
   },
   "outputs": [],
   "source": [
    "reg.predicted()"
   ]
  },
  {
   "cell_type": "code",
   "execution_count": null,
   "metadata": {
    "collapsed": false
   },
   "outputs": [],
   "source": [
    "plt.plot(x, y_real, '.k')\n",
    "plt.plot(x, reg.predicted(), '-r')"
   ]
  },
  {
   "cell_type": "markdown",
   "metadata": {},
   "source": [
    "## Desafio: Implemente uma classe que faz o ajuste de uma parábola"
   ]
  },
  {
   "cell_type": "code",
   "execution_count": null,
   "metadata": {
    "collapsed": true
   },
   "outputs": [],
   "source": [
    "a, b, c = 0.01, 0.1, 100\n",
    "y2 = a*x**2 + b*x + c\n",
    "y2_real = utils.contaminate(y2, 0.1)"
   ]
  },
  {
   "cell_type": "code",
   "execution_count": null,
   "metadata": {
    "collapsed": false
   },
   "outputs": [],
   "source": [
    "plt.plot(x, y2, '.k')"
   ]
  },
  {
   "cell_type": "code",
   "execution_count": null,
   "metadata": {
    "collapsed": true
   },
   "outputs": [],
   "source": [
    "class Parabola(Misfit):\n",
    "    \n",
    "    def __init__(self, x, y):\n",
    "        super(Parabola, self).__init__(data=y, nparams=3, islinear=True)\n",
    "        self.x = x\n",
    "        \n",
    "    def predicted(self, p):\n",
    "        a, b, c = p\n",
    "        return a*self.x**2 + b*self.x + c\n",
    "    \n",
    "    def jacobian(self, p):\n",
    "        A = np.empty((self.ndata, self.nparams))\n",
    "        A[:, 0] = self.x**2\n",
    "        A[:, 1] = self.x\n",
    "        A[:, 2] = 1\n",
    "        return A"
   ]
  },
  {
   "cell_type": "code",
   "execution_count": null,
   "metadata": {
    "collapsed": false
   },
   "outputs": [],
   "source": [
    "par = Parabola(x, y2_real).fit()\n",
    "par.estimate_"
   ]
  },
  {
   "cell_type": "code",
   "execution_count": null,
   "metadata": {
    "collapsed": false
   },
   "outputs": [],
   "source": [
    "plt.plot(x, y2_real, '.k')\n",
    "plt.plot(x, par.predicted(), '-r')"
   ]
  },
  {
   "cell_type": "markdown",
   "metadata": {},
   "source": [
    "## Optimização não-linear"
   ]
  },
  {
   "cell_type": "code",
   "execution_count": null,
   "metadata": {
    "collapsed": false
   },
   "outputs": [],
   "source": [
    "par.config"
   ]
  },
  {
   "cell_type": "code",
   "execution_count": null,
   "metadata": {
    "collapsed": false
   },
   "outputs": [],
   "source": [
    "par.config('newton', initial=[0, 0, 0])"
   ]
  },
  {
   "cell_type": "code",
   "execution_count": null,
   "metadata": {
    "collapsed": false
   },
   "outputs": [],
   "source": [
    "par.fit()"
   ]
  },
  {
   "cell_type": "code",
   "execution_count": null,
   "metadata": {
    "collapsed": false
   },
   "outputs": [],
   "source": [
    "par.estimate_"
   ]
  },
  {
   "cell_type": "code",
   "execution_count": null,
   "metadata": {
    "collapsed": false
   },
   "outputs": [],
   "source": [
    "par.stats_"
   ]
  },
  {
   "cell_type": "code",
   "execution_count": null,
   "metadata": {
    "collapsed": false
   },
   "outputs": [],
   "source": [
    "par.config('acor', bounds=[0, 1, 0, 1, 0, 1000]).fit()"
   ]
  },
  {
   "cell_type": "code",
   "execution_count": null,
   "metadata": {
    "collapsed": false
   },
   "outputs": [],
   "source": [
    "par.estimate_"
   ]
  },
  {
   "cell_type": "markdown",
   "metadata": {},
   "source": [
    "## Desafio: Estimar o epicentro"
   ]
  },
  {
   "cell_type": "code",
   "execution_count": null,
   "metadata": {
    "collapsed": false
   },
   "outputs": [],
   "source": [
    "receps = np.array([[1, 2], [4, 8], [10, 5]])\n",
    "epicentro = [5, 5]"
   ]
  },
  {
   "cell_type": "code",
   "execution_count": null,
   "metadata": {
    "collapsed": true
   },
   "outputs": [],
   "source": [
    "def diferenca_tempo(epicentro, receptores, vp, vs):\n",
    "    xe, ye = epicentro\n",
    "    xr, yr = receptores.T\n",
    "    t = (1/vs - 1/vp)*np.sqrt((xr - xe)**2 + (yr - ye)**2)\n",
    "    return t"
   ]
  },
  {
   "cell_type": "code",
   "execution_count": null,
   "metadata": {
    "collapsed": false
   },
   "outputs": [],
   "source": [
    "plt.plot(receps[:, 0], receps[:, 1], '^b')\n",
    "plt.plot(epicentro[0], epicentro[1], '*y')\n",
    "plt.xlim(0, 15)\n",
    "plt.ylim(0, 15)"
   ]
  },
  {
   "cell_type": "code",
   "execution_count": null,
   "metadata": {
    "collapsed": false
   },
   "outputs": [],
   "source": [
    "vp, vs = 4000, 4000/1.73\n",
    "tempo = diferenca_tempo(epicentro, receps, vp, vs)\n",
    "tempo_ruido = utils.contaminate(tempo, 0.01, percent=True)\n",
    "tempo_ruido"
   ]
  },
  {
   "cell_type": "code",
   "execution_count": null,
   "metadata": {
    "collapsed": true
   },
   "outputs": [],
   "source": [
    "class Epicentro(Misfit):\n",
    "    \n",
    "    def __init__(self, receptores, tempos, vp, vs):\n",
    "        super(Epicentro, self).__init__(data=tempos, nparams=2, islinear=False)\n",
    "        self.vp = vp\n",
    "        self.vs = vs\n",
    "        self.alpha = (1/vs - 1/vp)\n",
    "        self.receptores = receptores\n",
    "        \n",
    "    def predicted(self, p):        \n",
    "        return diferenca_tempo(p, self.receptores, self.vp, self.vs)\n",
    "    \n",
    "    def jacobian(self, p):\n",
    "        xe, ye = p\n",
    "        xr, yr = self.receptores.T\n",
    "        A = np.zeros((self.ndata, self.nparams))\n",
    "        sqrt = np.sqrt((xr - xe)**2 + (yr - ye)**2)\n",
    "        A[:, 0] = -self.alpha*(xr - xe)/sqrt\n",
    "        A[:, 1] = -self.alpha*(yr - ye)/sqrt\n",
    "        return A"
   ]
  },
  {
   "cell_type": "code",
   "execution_count": null,
   "metadata": {
    "collapsed": false
   },
   "outputs": [],
   "source": [
    "epic = Epicentro(receps, tempo_ruido, vp, vs)"
   ]
  },
  {
   "cell_type": "code",
   "execution_count": null,
   "metadata": {
    "collapsed": false
   },
   "outputs": [],
   "source": [
    "epic.config('levmarq', initial=[0, 0]).fit()"
   ]
  },
  {
   "cell_type": "code",
   "execution_count": null,
   "metadata": {
    "collapsed": false
   },
   "outputs": [],
   "source": [
    "epic.estimate_"
   ]
  },
  {
   "cell_type": "code",
   "execution_count": null,
   "metadata": {
    "collapsed": false
   },
   "outputs": [],
   "source": [
    "epic.config('steepest', initial=[0, 0]).fit()\n",
    "epic.estimate_"
   ]
  },
  {
   "cell_type": "code",
   "execution_count": null,
   "metadata": {
    "collapsed": false
   },
   "outputs": [],
   "source": [
    "epic.config('acor', bounds=[1, 20, 1, 20]).fit()\n",
    "epic.estimate_"
   ]
  }
 ],
 "metadata": {
  "kernelspec": {
   "display_name": "Python 2",
   "language": "python",
   "name": "python2"
  },
  "language_info": {
   "codemirror_mode": {
    "name": "ipython",
    "version": 2
   },
   "file_extension": ".py",
   "mimetype": "text/x-python",
   "name": "python",
   "nbconvert_exporter": "python",
   "pygments_lexer": "ipython2",
   "version": "2.7.11"
  }
 },
 "nbformat": 4,
 "nbformat_minor": 0
}
