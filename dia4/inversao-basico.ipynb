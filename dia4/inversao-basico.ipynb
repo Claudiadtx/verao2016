{
 "cells": [
  {
   "cell_type": "markdown",
   "metadata": {},
   "source": [
    "# Introdução ao pacote de inversão"
   ]
  },
  {
   "cell_type": "markdown",
   "metadata": {},
   "source": [
    "## Regressão linear básica"
   ]
  },
  {
   "cell_type": "code",
   "execution_count": 2,
   "metadata": {
    "collapsed": true
   },
   "outputs": [],
   "source": [
    "import numpy as np"
   ]
  },
  {
   "cell_type": "code",
   "execution_count": 76,
   "metadata": {
    "collapsed": false
   },
   "outputs": [],
   "source": [
    "x = np.linspace(5, 20, 100)\n",
    "a, b = 0.1, 500\n",
    "y = a*x + b"
   ]
  },
  {
   "cell_type": "code",
   "execution_count": 77,
   "metadata": {
    "collapsed": false
   },
   "outputs": [
    {
     "data": {
      "text/plain": [
       "numpy.ndarray"
      ]
     },
     "execution_count": 77,
     "metadata": {},
     "output_type": "execute_result"
    }
   ],
   "source": [
    "type(x)"
   ]
  },
  {
   "cell_type": "code",
   "execution_count": 78,
   "metadata": {
    "collapsed": true
   },
   "outputs": [],
   "source": [
    "%matplotlib inline\n",
    "import matplotlib.pyplot as plt"
   ]
  },
  {
   "cell_type": "code",
   "execution_count": 79,
   "metadata": {
    "collapsed": false
   },
   "outputs": [
    {
     "data": {
      "text/plain": [
       "[<matplotlib.lines.Line2D at 0x7f104796d390>]"
      ]
     },
     "execution_count": 79,
     "metadata": {},
     "output_type": "execute_result"
    },
    {
     "data": {
      "image/png": "[encoded data removed]",
      "text/plain": [
       "<matplotlib.figure.Figure at 0x7f1047ca4850>"
      ]
     },
     "metadata": {},
     "output_type": "display_data"
    }
   ],
   "source": [
    "plt.plot(x, y, '.k')"
   ]
  },
  {
   "cell_type": "code",
   "execution_count": 80,
   "metadata": {
    "collapsed": true
   },
   "outputs": [],
   "source": [
    "from fatiando import utils"
   ]
  },
  {
   "cell_type": "code",
   "execution_count": 81,
   "metadata": {
    "collapsed": true
   },
   "outputs": [],
   "source": [
    "y_real = utils.contaminate(y, 0.2)"
   ]
  },
  {
   "cell_type": "code",
   "execution_count": 82,
   "metadata": {
    "collapsed": false
   },
   "outputs": [
    {
     "data": {
      "text/plain": [
       "[<matplotlib.lines.Line2D at 0x7f1047918650>]"
      ]
     },
     "execution_count": 82,
     "metadata": {},
     "output_type": "execute_result"
    },
    {
     "data": {
      "image/png": "[encoded data removed]",
      "text/plain": [
       "<matplotlib.figure.Figure at 0x7f1047d6b450>"
      ]
     },
     "metadata": {},
     "output_type": "display_data"
    }
   ],
   "source": [
    "plt.plot(x, y_real, '.k')"
   ]
  },
  {
   "cell_type": "code",
   "execution_count": 83,
   "metadata": {
    "collapsed": true
   },
   "outputs": [],
   "source": [
    "from fatiando.inversion import Misfit"
   ]
  },
  {
   "cell_type": "code",
   "execution_count": 84,
   "metadata": {
    "collapsed": true
   },
   "outputs": [],
   "source": [
    "class Regressao(Misfit):\n",
    "    \n",
    "    def __init__(self, x, y):\n",
    "        Misfit.__init__(self, data=y, nparams=2, islinear=True)\n",
    "        self.x = x\n",
    "        \n",
    "    def predicted(self, p):\n",
    "        a, b = p\n",
    "        return a*self.x + b\n",
    "    \n",
    "    def jacobian(self, p):\n",
    "        A = np.empty((self.ndata, self.nparams))\n",
    "        A[:, 0] = self.x\n",
    "        A[:, 1] = 1\n",
    "        return A"
   ]
  },
  {
   "cell_type": "code",
   "execution_count": 85,
   "metadata": {
    "collapsed": false
   },
   "outputs": [],
   "source": [
    "reg = Regressao(x, y_real)"
   ]
  },
  {
   "cell_type": "code",
   "execution_count": 86,
   "metadata": {
    "collapsed": false
   },
   "outputs": [
    {
     "data": {
      "text/plain": [
       "<__main__.Regressao at 0x7f1047b752d0>"
      ]
     },
     "execution_count": 86,
     "metadata": {},
     "output_type": "execute_result"
    }
   ],
   "source": [
    "reg"
   ]
  },
  {
   "cell_type": "code",
   "execution_count": 87,
   "metadata": {
    "collapsed": false
   },
   "outputs": [
    {
     "data": {
      "text/plain": [
       "<__main__.Regressao at 0x7f1047b752d0>"
      ]
     },
     "execution_count": 87,
     "metadata": {},
     "output_type": "execute_result"
    }
   ],
   "source": [
    "reg.fit()"
   ]
  },
  {
   "cell_type": "code",
   "execution_count": 88,
   "metadata": {
    "collapsed": false
   },
   "outputs": [
    {
     "data": {
      "text/plain": [
       "array([  9.59646698e-02,   5.00050442e+02])"
      ]
     },
     "execution_count": 88,
     "metadata": {},
     "output_type": "execute_result"
    }
   ],
   "source": [
    "reg.estimate_"
   ]
  },
  {
   "cell_type": "code",
   "execution_count": 89,
   "metadata": {
    "collapsed": false
   },
   "outputs": [
    {
     "data": {
      "text/plain": [
       "array([ 500.53026498,  500.54480508,  500.55934518,  500.57388528,\n",
       "        500.58842538,  500.60296548,  500.61750559,  500.63204569,\n",
       "        500.64658579,  500.66112589,  500.67566599,  500.69020609,\n",
       "        500.70474619,  500.7192863 ,  500.7338264 ,  500.7483665 ,\n",
       "        500.7629066 ,  500.7774467 ,  500.7919868 ,  500.8065269 ,\n",
       "        500.82106701,  500.83560711,  500.85014721,  500.86468731,\n",
       "        500.87922741,  500.89376751,  500.90830761,  500.92284772,\n",
       "        500.93738782,  500.95192792,  500.96646802,  500.98100812,\n",
       "        500.99554822,  501.01008833,  501.02462843,  501.03916853,\n",
       "        501.05370863,  501.06824873,  501.08278883,  501.09732893,\n",
       "        501.11186904,  501.12640914,  501.14094924,  501.15548934,\n",
       "        501.17002944,  501.18456954,  501.19910964,  501.21364975,\n",
       "        501.22818985,  501.24272995,  501.25727005,  501.27181015,\n",
       "        501.28635025,  501.30089036,  501.31543046,  501.32997056,\n",
       "        501.34451066,  501.35905076,  501.37359086,  501.38813096,\n",
       "        501.40267107,  501.41721117,  501.43175127,  501.44629137,\n",
       "        501.46083147,  501.47537157,  501.48991167,  501.50445178,\n",
       "        501.51899188,  501.53353198,  501.54807208,  501.56261218,\n",
       "        501.57715228,  501.59169239,  501.60623249,  501.62077259,\n",
       "        501.63531269,  501.64985279,  501.66439289,  501.67893299,\n",
       "        501.6934731 ,  501.7080132 ,  501.7225533 ,  501.7370934 ,\n",
       "        501.7516335 ,  501.7661736 ,  501.7807137 ,  501.79525381,\n",
       "        501.80979391,  501.82433401,  501.83887411,  501.85341421,\n",
       "        501.86795431,  501.88249441,  501.89703452,  501.91157462,\n",
       "        501.92611472,  501.94065482,  501.95519492,  501.96973502])"
      ]
     },
     "execution_count": 89,
     "metadata": {},
     "output_type": "execute_result"
    }
   ],
   "source": [
    "reg.predicted()"
   ]
  },
  {
   "cell_type": "code",
   "execution_count": 90,
   "metadata": {
    "collapsed": false
   },
   "outputs": [
    {
     "data": {
      "text/plain": [
       "[<matplotlib.lines.Line2D at 0x7f1047a9dd90>]"
      ]
     },
     "execution_count": 90,
     "metadata": {},
     "output_type": "execute_result"
    },
    {
     "data": {
      "image/png": "[encoded data removed]",
      "text/plain": [
       "<matplotlib.figure.Figure at 0x7f1047a9d9d0>"
      ]
     },
     "metadata": {},
     "output_type": "display_data"
    }
   ],
   "source": [
    "plt.plot(x, y_real, '.k')\n",
    "plt.plot(x, reg.predicted(), '-r')"
   ]
  },
  {
   "cell_type": "markdown",
   "metadata": {},
   "source": [
    "## Desafio: Implemente uma classe que faz o ajuste de uma parábola"
   ]
  },
  {
   "cell_type": "code",
   "execution_count": 98,
   "metadata": {
    "collapsed": true
   },
   "outputs": [],
   "source": [
    "a, b, c = 0.01, 0.1, 100\n",
    "y2 = a*x**2 + b*x + c\n",
    "y2_real = utils.contaminate(y2, 0.1)"
   ]
  },
  {
   "cell_type": "code",
   "execution_count": 99,
   "metadata": {
    "collapsed": false
   },
   "outputs": [
    {
     "data": {
      "text/plain": [
       "[<matplotlib.lines.Line2D at 0x7f10476bc790>]"
      ]
     },
     "execution_count": 99,
     "metadata": {},
     "output_type": "execute_result"
    },
    {
     "data": {
      "image/png": "[encoded data removed]",
      "text/plain": [
       "<matplotlib.figure.Figure at 0x7f1047782290>"
      ]
     },
     "metadata": {},
     "output_type": "display_data"
    }
   ],
   "source": [
    "plt.plot(x, y2, '.k')"
   ]
  },
  {
   "cell_type": "code",
   "execution_count": 100,
   "metadata": {
    "collapsed": true
   },
   "outputs": [],
   "source": [
    "class Parabola(Misfit):\n",
    "    \n",
    "    def __init__(self, x, y):\n",
    "        Misfit.__init__(self, data=y, nparams=3, islinear=False)\n",
    "        self.x = x\n",
    "        \n",
    "    def predicted(self, p):\n",
    "        a, b, c = p\n",
    "        return a*self.x**2 + b*self.x + c\n",
    "    \n",
    "    def jacobian(self, p):\n",
    "        A = np.empty((self.ndata, self.nparams))\n",
    "        A[:, 0] = self.x**2\n",
    "        A[:, 1] = self.x\n",
    "        A[:, 2] = 1\n",
    "        return A"
   ]
  },
  {
   "cell_type": "code",
   "execution_count": 101,
   "metadata": {
    "collapsed": false
   },
   "outputs": [
    {
     "data": {
      "text/plain": [
       "array([  1.00553473e-02,   1.02011235e-01,   9.99651528e+01])"
      ]
     },
     "execution_count": 101,
     "metadata": {},
     "output_type": "execute_result"
    }
   ],
   "source": [
    "par = Parabola(x, y2_real).fit()\n",
    "par.estimate_"
   ]
  },
  {
   "cell_type": "code",
   "execution_count": 102,
   "metadata": {
    "collapsed": false
   },
   "outputs": [
    {
     "data": {
      "text/plain": [
       "[<matplotlib.lines.Line2D at 0x7f104767ed10>]"
      ]
     },
     "execution_count": 102,
     "metadata": {},
     "output_type": "execute_result"
    },
    {
     "data": {
      "image/png": "[encoded data removed]",
      "text/plain": [
       "<matplotlib.figure.Figure at 0x7f104767ee90>"
      ]
     },
     "metadata": {},
     "output_type": "display_data"
    }
   ],
   "source": [
    "plt.plot(x, y2_real, '.k')\n",
    "plt.plot(x, par.predicted(), '-r')"
   ]
  },
  {
   "cell_type": "code",
   "execution_count": null,
   "metadata": {
    "collapsed": true
   },
   "outputs": [],
   "source": []
  }
 ],
 "metadata": {
  "kernelspec": {
   "display_name": "Python 2",
   "language": "python",
   "name": "python2"
  },
  "language_info": {
   "codemirror_mode": {
    "name": "ipython",
    "version": 2
   },
   "file_extension": ".py",
   "mimetype": "text/x-python",
   "name": "python",
   "nbconvert_exporter": "python",
   "pygments_lexer": "ipython2",
   "version": "2.7.11"
  }
 },
 "nbformat": 4,
 "nbformat_minor": 0
}
