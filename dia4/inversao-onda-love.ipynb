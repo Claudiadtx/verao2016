{
 "cells": [
  {
   "cell_type": "markdown",
   "metadata": {},
   "source": [
    "# Inversão da velocidade de grupo de ondas Love"
   ]
  },
  {
   "cell_type": "markdown",
   "metadata": {},
   "source": [
    "## Carregando os dados"
   ]
  },
  {
   "cell_type": "code",
   "execution_count": null,
   "metadata": {
    "collapsed": true
   },
   "outputs": [],
   "source": [
    "from __future__ import division, print_function\n",
    "%matplotlib inline\n",
    "import matplotlib.pyplot as plt\n",
    "import numpy as np"
   ]
  },
  {
   "cell_type": "code",
   "execution_count": null,
   "metadata": {
    "collapsed": false
   },
   "outputs": [],
   "source": [
    "periodo, velocidade = np.loadtxt('vel-grupo-sao-vicente.txt', unpack=True)\n",
    "velocidade *= 1000"
   ]
  },
  {
   "cell_type": "code",
   "execution_count": null,
   "metadata": {
    "collapsed": false
   },
   "outputs": [],
   "source": [
    "plt.plot(periodo, velocidade, 'ok')"
   ]
  },
  {
   "cell_type": "markdown",
   "metadata": {},
   "source": [
    "## Modelagem direta"
   ]
  },
  {
   "cell_type": "code",
   "execution_count": null,
   "metadata": {
    "collapsed": true
   },
   "outputs": [],
   "source": [
    "def vel_grupo_love(velocidade, h, v1, v2, den1, den2):\n",
    "    \"\"\"\n",
    "    Calcula os períodos dada as velocidades de grupo e um modelo.\n",
    "    \n",
    "    O modelo eh de uma camada sobre um meio semi-infinito.\n",
    "    \"\"\"\n",
    "    cima = 2*np.pi*h*np.sqrt(velocidade**2/v1**2 - 1)/velocidade\n",
    "    baixo = np.arctan2(den2*np.sqrt(v2**4 - velocidade**2*v2**2),\n",
    "                       den1*np.sqrt(velocidade**2*v1**2 - v1**4))\n",
    "    periodo = cima/baixo\n",
    "    return periodo"
   ]
  },
  {
   "cell_type": "code",
   "execution_count": null,
   "metadata": {
    "collapsed": false
   },
   "outputs": [],
   "source": [
    "modelo = vel_grupo_love(velocidade, 40000, 3500, 6000, 2670, 3200)\n",
    "plt.plot(periodo, velocidade, 'ok')\n",
    "plt.plot(modelo, velocidade, '.-r')"
   ]
  },
  {
   "cell_type": "markdown",
   "metadata": {},
   "source": [
    "## Inversão"
   ]
  },
  {
   "cell_type": "code",
   "execution_count": null,
   "metadata": {
    "collapsed": true
   },
   "outputs": [],
   "source": [
    "from fatiando.inversion import Misfit"
   ]
  },
  {
   "cell_type": "code",
   "execution_count": null,
   "metadata": {
    "collapsed": false
   },
   "outputs": [],
   "source": [
    "class GrupoLove(Misfit):\n",
    "    \n",
    "    def __init__(self, perido, velocidade, den1, den2):\n",
    "        super(GrupoLove, self).__init__(data=periodo, nparams=3, islinear=False)\n",
    "        self.velocidade = velocidade\n",
    "        self.den1 = den1\n",
    "        self.den2 = den2\n",
    "    \n",
    "    def predicted(self, p):\n",
    "        h, v1, v2 = p\n",
    "        periodo = vel_grupo_love(self.velocidade, h, v1, v2, self.den1, self.den2)\n",
    "        return periodo\n",
    "    \n",
    "    def jacobian(self, p):\n",
    "        pass        "
   ]
  },
  {
   "cell_type": "markdown",
   "metadata": {},
   "source": [
    "### Assume densidades de crosta-manto"
   ]
  },
  {
   "cell_type": "code",
   "execution_count": null,
   "metadata": {
    "collapsed": false
   },
   "outputs": [],
   "source": [
    "amor = GrupoLove(periodo, velocidade, den1=2700,  den2=3200)"
   ]
  },
  {
   "cell_type": "code",
   "execution_count": null,
   "metadata": {
    "collapsed": false
   },
   "outputs": [],
   "source": [
    "amor.config('acor', bounds=[1000, 70000, 1000, 7000, 1000, 7000]).fit()"
   ]
  },
  {
   "cell_type": "code",
   "execution_count": null,
   "metadata": {
    "collapsed": false
   },
   "outputs": [],
   "source": [
    "amor.estimate_"
   ]
  },
  {
   "cell_type": "code",
   "execution_count": null,
   "metadata": {
    "collapsed": false
   },
   "outputs": [],
   "source": [
    "plt.plot(periodo, velocidade, 'ok')\n",
    "plt.plot(amor.predicted(), velocidade, '.-r')"
   ]
  },
  {
   "cell_type": "markdown",
   "metadata": {},
   "source": [
    "## Assume densidades de bacia-embasamento"
   ]
  },
  {
   "cell_type": "code",
   "execution_count": null,
   "metadata": {
    "collapsed": false
   },
   "outputs": [],
   "source": [
    "amor2 = GrupoLove(periodo, velocidade, den1=2000,  den2=2700)"
   ]
  },
  {
   "cell_type": "code",
   "execution_count": null,
   "metadata": {
    "collapsed": false
   },
   "outputs": [],
   "source": [
    "amor2.config('acor', bounds=[1000, 10000, 1000, 7000, 1000, 7000]).fit()"
   ]
  },
  {
   "cell_type": "code",
   "execution_count": null,
   "metadata": {
    "collapsed": false
   },
   "outputs": [],
   "source": [
    "amor2.estimate_"
   ]
  },
  {
   "cell_type": "code",
   "execution_count": null,
   "metadata": {
    "collapsed": false
   },
   "outputs": [],
   "source": [
    "plt.plot(periodo, velocidade, 'ok')\n",
    "plt.plot(amor2.predicted(), velocidade, '.-r')"
   ]
  }
 ],
 "metadata": {
  "kernelspec": {
   "display_name": "Python 2",
   "language": "python",
   "name": "python2"
  },
  "language_info": {
   "codemirror_mode": {
    "name": "ipython",
    "version": 2
   },
   "file_extension": ".py",
   "mimetype": "text/x-python",
   "name": "python",
   "nbconvert_exporter": "python",
   "pygments_lexer": "ipython2",
   "version": "2.7.11"
  }
 },
 "nbformat": 4,
 "nbformat_minor": 0
}
