{
 "cells": [
  {
   "cell_type": "markdown",
   "metadata": {},
   "source": [
    "# Inversão do Te  do Havaí"
   ]
  },
  {
   "cell_type": "code",
   "execution_count": null,
   "metadata": {
    "collapsed": false
   },
   "outputs": [],
   "source": [
    "from __future__ import division, print_function\n",
    "import numpy as np\n",
    "%matplotlib inline\n",
    "import matplotlib.pyplot as plt"
   ]
  },
  {
   "cell_type": "code",
   "execution_count": null,
   "metadata": {
    "collapsed": false
   },
   "outputs": [],
   "source": [
    "x, topo = np.loadtxt('../DiaDois/Flexura/Oahu_profile.txt', unpack=True)"
   ]
  },
  {
   "cell_type": "code",
   "execution_count": null,
   "metadata": {
    "collapsed": false
   },
   "outputs": [],
   "source": [
    "plt.plot(x, topo, '-k')"
   ]
  },
  {
   "cell_type": "markdown",
   "metadata": {},
   "source": [
    "## Desafio: Estimar o regional com uma parábola"
   ]
  },
  {
   "cell_type": "code",
   "execution_count": null,
   "metadata": {
    "collapsed": true
   },
   "outputs": [],
   "source": [
    "from fatiando.inversion import Misfit"
   ]
  },
  {
   "cell_type": "code",
   "execution_count": null,
   "metadata": {
    "collapsed": true
   },
   "outputs": [],
   "source": [
    "class Parabola(Misfit):\n",
    "    \n",
    "    def __init__(self, x, y):\n",
    "        super(Parabola, self).__init__(data=y, nparams=3, islinear=True)\n",
    "        self.x = x\n",
    "        \n",
    "    def predicted(self, p):\n",
    "        a, b, c = p\n",
    "        return a*self.x**2 + b*self.x + c\n",
    "    \n",
    "    def jacobian(self, p):\n",
    "        A = np.empty((self.ndata, self.nparams))\n",
    "        A[:, 0] = self.x**2\n",
    "        A[:, 1] = self.x\n",
    "        A[:, 2] = 1\n",
    "        return A"
   ]
  },
  {
   "cell_type": "code",
   "execution_count": null,
   "metadata": {
    "collapsed": true
   },
   "outputs": [],
   "source": [
    "par = Parabola(x, topo).fit()"
   ]
  },
  {
   "cell_type": "code",
   "execution_count": null,
   "metadata": {
    "collapsed": false
   },
   "outputs": [],
   "source": [
    "par.estimate_"
   ]
  },
  {
   "cell_type": "code",
   "execution_count": null,
   "metadata": {
    "collapsed": false
   },
   "outputs": [],
   "source": [
    "plt.plot(x, topo, '-k')\n",
    "plt.plot(x, par.predicted(), '-r')"
   ]
  },
  {
   "cell_type": "markdown",
   "metadata": {},
   "source": [
    "## Ajuste robusto"
   ]
  },
  {
   "cell_type": "code",
   "execution_count": null,
   "metadata": {
    "collapsed": true
   },
   "outputs": [],
   "source": [
    "par_robusto = Parabola(x, topo).fit()"
   ]
  },
  {
   "cell_type": "code",
   "execution_count": null,
   "metadata": {
    "collapsed": false
   },
   "outputs": [],
   "source": [
    "r = par_robusto.residuals()"
   ]
  },
  {
   "cell_type": "code",
   "execution_count": null,
   "metadata": {
    "collapsed": false
   },
   "outputs": [],
   "source": [
    "plt.plot(x, topo, '-k')\n",
    "plt.plot(x, r, '-r')"
   ]
  },
  {
   "cell_type": "code",
   "execution_count": null,
   "metadata": {
    "collapsed": true
   },
   "outputs": [],
   "source": [
    "pesos = 1/np.abs(r)\n",
    "pesos[r < 1e-5] = 1e5"
   ]
  },
  {
   "cell_type": "code",
   "execution_count": null,
   "metadata": {
    "collapsed": false
   },
   "outputs": [],
   "source": [
    "plt.plot(x, topo, '-k')\n",
    "plt.plot(x, r, '-r')"
   ]
  },
  {
   "cell_type": "code",
   "execution_count": null,
   "metadata": {
    "collapsed": false
   },
   "outputs": [],
   "source": [
    "plt.plot(x, pesos, '-b')"
   ]
  },
  {
   "cell_type": "code",
   "execution_count": null,
   "metadata": {
    "collapsed": true
   },
   "outputs": [],
   "source": [
    "for i in xrange(20):\n",
    "    r = par_robusto.residuals()\n",
    "    pesos = 1/np.abs(r)\n",
    "    pesos[np.abs(r) < 1e-5] = 1e5\n",
    "    par_robusto.set_weights(pesos).fit()"
   ]
  },
  {
   "cell_type": "code",
   "execution_count": null,
   "metadata": {
    "collapsed": false
   },
   "outputs": [],
   "source": [
    "plt.plot(x, topo, '-k')\n",
    "plt.plot(x, par.predicted(), '-r')\n",
    "plt.plot(x, par_robusto.predicted(), '-b')"
   ]
  },
  {
   "cell_type": "code",
   "execution_count": null,
   "metadata": {
    "collapsed": true
   },
   "outputs": [],
   "source": [
    "topo_res = topo - par_robusto.predicted()"
   ]
  },
  {
   "cell_type": "code",
   "execution_count": null,
   "metadata": {
    "collapsed": false
   },
   "outputs": [],
   "source": [
    "plt.plot(x, topo_res, '-k')"
   ]
  },
  {
   "cell_type": "markdown",
   "metadata": {
    "collapsed": true
   },
   "source": [
    "## Desafio: Inversão para o Te usando flexura"
   ]
  },
  {
   "cell_type": "code",
   "execution_count": null,
   "metadata": {
    "collapsed": true
   },
   "outputs": [],
   "source": [
    "from scipy import sparse\n",
    "from scipy.sparse.linalg import dsolve"
   ]
  },
  {
   "cell_type": "code",
   "execution_count": null,
   "metadata": {
    "collapsed": false
   },
   "outputs": [],
   "source": [
    "class FlexNum3(object):    \n",
    "    drho = 2300.0\n",
    "    g = 10.0\n",
    "    E = 1.0E11\n",
    "    nu = 0.25\n",
    "    V0 = -1.0E13    \n",
    "    \n",
    "    def __init__(self, x, p):\n",
    "        self.x = x\n",
    "        self.p = p\n",
    "        self.dx = x[1]-x[0]\n",
    "        self.N = p.size\n",
    "        \n",
    "    def monta_roda(self, Te):\n",
    "        D = self.E*Te**3/(12*(1-self.nu**2))\n",
    "        N,dx,drho,g = self.N,self.dx,self.drho,self.g\n",
    "        \n",
    "        Alin = np.arange(N)\n",
    "        Alin = np.append(Alin,np.arange(0,N-1))\n",
    "        Alin = np.append(Alin,np.arange(1,N))\n",
    "        Alin = np.append(Alin,np.arange(0,N-2))\n",
    "        Alin = np.append(Alin,np.arange(2,N))\n",
    "        \n",
    "        Acol = np.arange(N)\n",
    "        Acol = np.append(Acol,np.arange(1,N))\n",
    "        Acol = np.append(Acol,np.arange(0,N-1))\n",
    "        Acol = np.append(Acol,np.arange(2,N))\n",
    "        Acol = np.append(Acol,np.arange(0,N-2))\n",
    "        \n",
    "        Aval = np.zeros(N) + 6*D + dx**4*drho*g\n",
    "        Aval = np.append(Aval,np.zeros(N-1)-4*D)\n",
    "        Aval = np.append(Aval,np.zeros(N-1)-4*D)\n",
    "        Aval = np.append(Aval,np.zeros(N-2)+D)\n",
    "        Aval = np.append(Aval,np.zeros(N-2)+D)\n",
    "        \n",
    "        self.A = sparse.csr_matrix((Aval,(Alin,Acol)), shape=(N,N))\n",
    "        \n",
    "        return dsolve.spsolve(self.A,self.p*dx**4)"
   ]
  },
  {
   "cell_type": "code",
   "execution_count": null,
   "metadata": {
    "collapsed": false
   },
   "outputs": [],
   "source": [
    "h_load = np.copy(topo_res)\n",
    "ombreira = (x < 510) | (x > 649)\n",
    "h_load[ombreira] = 0\n",
    "\n",
    "plt.plot(x, h_load, '-k')"
   ]
  },
  {
   "cell_type": "code",
   "execution_count": null,
   "metadata": {
    "collapsed": false
   },
   "outputs": [],
   "source": [
    "p = -h_load*(2700-1000)*10\n",
    "flex = FlexNum3(x*1000, p)"
   ]
  },
  {
   "cell_type": "code",
   "execution_count": null,
   "metadata": {
    "collapsed": false
   },
   "outputs": [],
   "source": [
    "w = flex.monta_roda(70e3)"
   ]
  },
  {
   "cell_type": "code",
   "execution_count": null,
   "metadata": {
    "collapsed": false
   },
   "outputs": [],
   "source": [
    "plt.plot(x, topo_res, '-k')\n",
    "plt.plot(x, w, '-r')"
   ]
  },
  {
   "cell_type": "code",
   "execution_count": null,
   "metadata": {
    "collapsed": true
   },
   "outputs": [],
   "source": [
    "class Dummy(object):\n",
    "    def __init__(self, *args):\n",
    "        pass\n",
    "    def hard_reset(self):\n",
    "        pass"
   ]
  },
  {
   "cell_type": "code",
   "execution_count": null,
   "metadata": {
    "collapsed": true
   },
   "outputs": [],
   "source": [
    "class FlexTe(Misfit):\n",
    "    \n",
    "    def __init__(self, x, topo, flex):\n",
    "        self.hessian = Dummy()\n",
    "        super(FlexTe, self).__init__(data=topo, nparams=1, islinear=False)\n",
    "        self.x = x\n",
    "        self.flex = flex\n",
    "        \n",
    "    def predicted(self, p):\n",
    "        w = self.flex.monta_roda(p[0])\n",
    "        return w\n",
    "    \n",
    "    def jacobian(self, p):\n",
    "        A = np.empty((self.ndata, 1))\n",
    "        dt = 1\n",
    "        A[:, 0] = (self.flex.monta_roda(p[0] + dt) - self.flex.monta_roda(p[0] - dt))/dt*2\n",
    "        return A\n",
    "        "
   ]
  },
  {
   "cell_type": "code",
   "execution_count": null,
   "metadata": {
    "collapsed": false
   },
   "outputs": [],
   "source": [
    "solver = FlexTe(x, topo_res, flex)"
   ]
  },
  {
   "cell_type": "code",
   "execution_count": null,
   "metadata": {
    "collapsed": false
   },
   "outputs": [],
   "source": [
    "solver.config('acor', bounds=[30e3, 150e3]).fit()"
   ]
  },
  {
   "cell_type": "code",
   "execution_count": null,
   "metadata": {
    "collapsed": false
   },
   "outputs": [],
   "source": [
    "solver.estimate_"
   ]
  },
  {
   "cell_type": "code",
   "execution_count": null,
   "metadata": {
    "collapsed": false
   },
   "outputs": [],
   "source": [
    "plt.plot(x, topo_res, '-k')\n",
    "plt.plot(x, solver.predicted(), '-r')"
   ]
  },
  {
   "cell_type": "code",
   "execution_count": null,
   "metadata": {
    "collapsed": false
   },
   "outputs": [],
   "source": [
    "peso = np.ones(solver.ndata)\n",
    "peso[~ombreira] = 0\n",
    "solver.set_weights(peso)"
   ]
  },
  {
   "cell_type": "code",
   "execution_count": null,
   "metadata": {
    "collapsed": false
   },
   "outputs": [],
   "source": [
    "solver.fit()"
   ]
  },
  {
   "cell_type": "code",
   "execution_count": null,
   "metadata": {
    "collapsed": false
   },
   "outputs": [],
   "source": [
    "solver.estimate_"
   ]
  },
  {
   "cell_type": "code",
   "execution_count": null,
   "metadata": {
    "collapsed": false
   },
   "outputs": [],
   "source": [
    "plt.plot(x, topo_res, '-k')\n",
    "plt.plot(x, solver.predicted(), '-r')"
   ]
  }
 ],
 "metadata": {
  "kernelspec": {
   "display_name": "Python 2",
   "language": "python",
   "name": "python2"
  },
  "language_info": {
   "codemirror_mode": {
    "name": "ipython",
    "version": 2
   },
   "file_extension": ".py",
   "mimetype": "text/x-python",
   "name": "python",
   "nbconvert_exporter": "python",
   "pygments_lexer": "ipython2",
   "version": "2.7.11"
  }
 },
 "nbformat": 4,
 "nbformat_minor": 0
}
